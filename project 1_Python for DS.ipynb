{
 "cells": [
  {
   "cell_type": "code",
   "execution_count": 1,
   "id": "01b974e8-4e6f-489e-8603-f9654bf64630",
   "metadata": {},
   "outputs": [],
   "source": [
    "import pandas as pd\n",
    "import numpy as np\n",
    "import seaborn as sns\n",
    "import matplotlib.pyplot as plt\n",
    "import warnings\n",
    "warnings.filterwarnings('ignore')\n",
    "\n",
    "import sklearn\n",
    "from sklearn.preprocessing import StandardScaler,LabelEncoder, MinMaxScaler\n",
    "from sklearn.model_selection import train_test_split\n",
    "from sklearn.linear_model import LinearRegression \n",
    "from sklearn.metrics import r2_score"
   ]
  },
  {
   "cell_type": "code",
   "execution_count": 3,
   "id": "5bcc00bb-abb2-43d2-b2af-5b15ecffa2ac",
   "metadata": {},
   "outputs": [
    {
     "data": {
      "text/html": [
       "<div>\n",
       "<style scoped>\n",
       "    .dataframe tbody tr th:only-of-type {\n",
       "        vertical-align: middle;\n",
       "    }\n",
       "\n",
       "    .dataframe tbody tr th {\n",
       "        vertical-align: top;\n",
       "    }\n",
       "\n",
       "    .dataframe thead th {\n",
       "        text-align: right;\n",
       "    }\n",
       "</style>\n",
       "<table border=\"1\" class=\"dataframe\">\n",
       "  <thead>\n",
       "    <tr style=\"text-align: right;\">\n",
       "      <th></th>\n",
       "      <th>ID</th>\n",
       "      <th>Name</th>\n",
       "      <th>Age</th>\n",
       "      <th>Photo</th>\n",
       "      <th>Nationality</th>\n",
       "      <th>Flag</th>\n",
       "      <th>Overall</th>\n",
       "      <th>Potential</th>\n",
       "      <th>Club</th>\n",
       "      <th>Club Logo</th>\n",
       "      <th>...</th>\n",
       "      <th>Composure</th>\n",
       "      <th>Marking</th>\n",
       "      <th>StandingTackle</th>\n",
       "      <th>SlidingTackle</th>\n",
       "      <th>GKDiving</th>\n",
       "      <th>GKHandling</th>\n",
       "      <th>GKKicking</th>\n",
       "      <th>GKPositioning</th>\n",
       "      <th>GKReflexes</th>\n",
       "      <th>Release Clause</th>\n",
       "    </tr>\n",
       "  </thead>\n",
       "  <tbody>\n",
       "    <tr>\n",
       "      <th>0</th>\n",
       "      <td>158023</td>\n",
       "      <td>L. Messi</td>\n",
       "      <td>31</td>\n",
       "      <td>https://cdn.sofifa.org/players/4/19/158023.png</td>\n",
       "      <td>Argentina</td>\n",
       "      <td>https://cdn.sofifa.org/flags/52.png</td>\n",
       "      <td>94</td>\n",
       "      <td>94</td>\n",
       "      <td>FC Barcelona</td>\n",
       "      <td>https://cdn.sofifa.org/teams/2/light/241.png</td>\n",
       "      <td>...</td>\n",
       "      <td>96.0</td>\n",
       "      <td>33.0</td>\n",
       "      <td>28.0</td>\n",
       "      <td>26.0</td>\n",
       "      <td>6.0</td>\n",
       "      <td>11.0</td>\n",
       "      <td>15.0</td>\n",
       "      <td>14.0</td>\n",
       "      <td>8.0</td>\n",
       "      <td>€226.5M</td>\n",
       "    </tr>\n",
       "    <tr>\n",
       "      <th>1</th>\n",
       "      <td>20801</td>\n",
       "      <td>Cristiano Ronaldo</td>\n",
       "      <td>33</td>\n",
       "      <td>https://cdn.sofifa.org/players/4/19/20801.png</td>\n",
       "      <td>Portugal</td>\n",
       "      <td>https://cdn.sofifa.org/flags/38.png</td>\n",
       "      <td>94</td>\n",
       "      <td>94</td>\n",
       "      <td>Juventus</td>\n",
       "      <td>https://cdn.sofifa.org/teams/2/light/45.png</td>\n",
       "      <td>...</td>\n",
       "      <td>95.0</td>\n",
       "      <td>28.0</td>\n",
       "      <td>31.0</td>\n",
       "      <td>23.0</td>\n",
       "      <td>7.0</td>\n",
       "      <td>11.0</td>\n",
       "      <td>15.0</td>\n",
       "      <td>14.0</td>\n",
       "      <td>11.0</td>\n",
       "      <td>€127.1M</td>\n",
       "    </tr>\n",
       "    <tr>\n",
       "      <th>2</th>\n",
       "      <td>190871</td>\n",
       "      <td>Neymar Jr</td>\n",
       "      <td>26</td>\n",
       "      <td>https://cdn.sofifa.org/players/4/19/190871.png</td>\n",
       "      <td>Brazil</td>\n",
       "      <td>https://cdn.sofifa.org/flags/54.png</td>\n",
       "      <td>92</td>\n",
       "      <td>93</td>\n",
       "      <td>Paris Saint-Germain</td>\n",
       "      <td>https://cdn.sofifa.org/teams/2/light/73.png</td>\n",
       "      <td>...</td>\n",
       "      <td>94.0</td>\n",
       "      <td>27.0</td>\n",
       "      <td>24.0</td>\n",
       "      <td>33.0</td>\n",
       "      <td>9.0</td>\n",
       "      <td>9.0</td>\n",
       "      <td>15.0</td>\n",
       "      <td>15.0</td>\n",
       "      <td>11.0</td>\n",
       "      <td>€228.1M</td>\n",
       "    </tr>\n",
       "    <tr>\n",
       "      <th>3</th>\n",
       "      <td>193080</td>\n",
       "      <td>De Gea</td>\n",
       "      <td>27</td>\n",
       "      <td>https://cdn.sofifa.org/players/4/19/193080.png</td>\n",
       "      <td>Spain</td>\n",
       "      <td>https://cdn.sofifa.org/flags/45.png</td>\n",
       "      <td>91</td>\n",
       "      <td>93</td>\n",
       "      <td>Manchester United</td>\n",
       "      <td>https://cdn.sofifa.org/teams/2/light/11.png</td>\n",
       "      <td>...</td>\n",
       "      <td>68.0</td>\n",
       "      <td>15.0</td>\n",
       "      <td>21.0</td>\n",
       "      <td>13.0</td>\n",
       "      <td>90.0</td>\n",
       "      <td>85.0</td>\n",
       "      <td>87.0</td>\n",
       "      <td>88.0</td>\n",
       "      <td>94.0</td>\n",
       "      <td>€138.6M</td>\n",
       "    </tr>\n",
       "    <tr>\n",
       "      <th>4</th>\n",
       "      <td>192985</td>\n",
       "      <td>K. De Bruyne</td>\n",
       "      <td>27</td>\n",
       "      <td>https://cdn.sofifa.org/players/4/19/192985.png</td>\n",
       "      <td>Belgium</td>\n",
       "      <td>https://cdn.sofifa.org/flags/7.png</td>\n",
       "      <td>91</td>\n",
       "      <td>92</td>\n",
       "      <td>Manchester City</td>\n",
       "      <td>https://cdn.sofifa.org/teams/2/light/10.png</td>\n",
       "      <td>...</td>\n",
       "      <td>88.0</td>\n",
       "      <td>68.0</td>\n",
       "      <td>58.0</td>\n",
       "      <td>51.0</td>\n",
       "      <td>15.0</td>\n",
       "      <td>13.0</td>\n",
       "      <td>5.0</td>\n",
       "      <td>10.0</td>\n",
       "      <td>13.0</td>\n",
       "      <td>€196.4M</td>\n",
       "    </tr>\n",
       "  </tbody>\n",
       "</table>\n",
       "<p>5 rows × 60 columns</p>\n",
       "</div>"
      ],
      "text/plain": [
       "       ID               Name  Age  \\\n",
       "0  158023           L. Messi   31   \n",
       "1   20801  Cristiano Ronaldo   33   \n",
       "2  190871          Neymar Jr   26   \n",
       "3  193080             De Gea   27   \n",
       "4  192985       K. De Bruyne   27   \n",
       "\n",
       "                                            Photo Nationality  \\\n",
       "0  https://cdn.sofifa.org/players/4/19/158023.png   Argentina   \n",
       "1   https://cdn.sofifa.org/players/4/19/20801.png    Portugal   \n",
       "2  https://cdn.sofifa.org/players/4/19/190871.png      Brazil   \n",
       "3  https://cdn.sofifa.org/players/4/19/193080.png       Spain   \n",
       "4  https://cdn.sofifa.org/players/4/19/192985.png     Belgium   \n",
       "\n",
       "                                  Flag  Overall  Potential  \\\n",
       "0  https://cdn.sofifa.org/flags/52.png       94         94   \n",
       "1  https://cdn.sofifa.org/flags/38.png       94         94   \n",
       "2  https://cdn.sofifa.org/flags/54.png       92         93   \n",
       "3  https://cdn.sofifa.org/flags/45.png       91         93   \n",
       "4   https://cdn.sofifa.org/flags/7.png       91         92   \n",
       "\n",
       "                  Club                                     Club Logo  ...  \\\n",
       "0         FC Barcelona  https://cdn.sofifa.org/teams/2/light/241.png  ...   \n",
       "1             Juventus   https://cdn.sofifa.org/teams/2/light/45.png  ...   \n",
       "2  Paris Saint-Germain   https://cdn.sofifa.org/teams/2/light/73.png  ...   \n",
       "3    Manchester United   https://cdn.sofifa.org/teams/2/light/11.png  ...   \n",
       "4      Manchester City   https://cdn.sofifa.org/teams/2/light/10.png  ...   \n",
       "\n",
       "  Composure Marking StandingTackle  SlidingTackle  GKDiving  GKHandling  \\\n",
       "0      96.0    33.0           28.0           26.0       6.0        11.0   \n",
       "1      95.0    28.0           31.0           23.0       7.0        11.0   \n",
       "2      94.0    27.0           24.0           33.0       9.0         9.0   \n",
       "3      68.0    15.0           21.0           13.0      90.0        85.0   \n",
       "4      88.0    68.0           58.0           51.0      15.0        13.0   \n",
       "\n",
       "  GKKicking GKPositioning GKReflexes  Release Clause  \n",
       "0      15.0          14.0        8.0         €226.5M  \n",
       "1      15.0          14.0       11.0         €127.1M  \n",
       "2      15.0          15.0       11.0         €228.1M  \n",
       "3      87.0          88.0       94.0         €138.6M  \n",
       "4       5.0          10.0       13.0         €196.4M  \n",
       "\n",
       "[5 rows x 60 columns]"
      ]
     },
     "execution_count": 3,
     "metadata": {},
     "output_type": "execute_result"
    }
   ],
   "source": [
    "fifa_df = pd.read_csv(r'C:\\Users\\canit\\Downloads\\fifa.csv')\n",
    "fifa_df.head(5)"
   ]
  },
  {
   "cell_type": "code",
   "execution_count": 4,
   "id": "4cda2e49-ef12-4e29-9f63-59fe3283196f",
   "metadata": {},
   "outputs": [
    {
     "data": {
      "text/html": [
       "<div>\n",
       "<style scoped>\n",
       "    .dataframe tbody tr th:only-of-type {\n",
       "        vertical-align: middle;\n",
       "    }\n",
       "\n",
       "    .dataframe tbody tr th {\n",
       "        vertical-align: top;\n",
       "    }\n",
       "\n",
       "    .dataframe thead th {\n",
       "        text-align: right;\n",
       "    }\n",
       "</style>\n",
       "<table border=\"1\" class=\"dataframe\">\n",
       "  <thead>\n",
       "    <tr style=\"text-align: right;\">\n",
       "      <th></th>\n",
       "      <th>ID</th>\n",
       "      <th>unique id for every player</th>\n",
       "    </tr>\n",
       "  </thead>\n",
       "  <tbody>\n",
       "    <tr>\n",
       "      <th>0</th>\n",
       "      <td>Name</td>\n",
       "      <td>name</td>\n",
       "    </tr>\n",
       "    <tr>\n",
       "      <th>1</th>\n",
       "      <td>Age</td>\n",
       "      <td>age</td>\n",
       "    </tr>\n",
       "    <tr>\n",
       "      <th>2</th>\n",
       "      <td>Photo</td>\n",
       "      <td>url to the player's photo</td>\n",
       "    </tr>\n",
       "    <tr>\n",
       "      <th>3</th>\n",
       "      <td>Nationality</td>\n",
       "      <td>nationality</td>\n",
       "    </tr>\n",
       "    <tr>\n",
       "      <th>4</th>\n",
       "      <td>Flag</td>\n",
       "      <td>url to players's country flag</td>\n",
       "    </tr>\n",
       "  </tbody>\n",
       "</table>\n",
       "</div>"
      ],
      "text/plain": [
       "            ID     unique id for every player\n",
       "0         Name                           name\n",
       "1          Age                            age\n",
       "2        Photo      url to the player's photo\n",
       "3  Nationality                    nationality\n",
       "4         Flag  url to players's country flag"
      ]
     },
     "execution_count": 4,
     "metadata": {},
     "output_type": "execute_result"
    }
   ],
   "source": [
    "fifa_var = pd.read_csv(r'C:\\Users\\canit\\Downloads\\fifa_ variable_information.csv')\n",
    "fifa_var.head(5)"
   ]
  },
  {
   "cell_type": "code",
   "execution_count": 5,
   "id": "5a36f182-8476-4ef5-8cab-4f541657046d",
   "metadata": {},
   "outputs": [
    {
     "name": "stdout",
     "output_type": "stream",
     "text": [
      "(18207, 60)\n"
     ]
    }
   ],
   "source": [
    "print(fifa_df.shape)"
   ]
  },
  {
   "cell_type": "code",
   "execution_count": 6,
   "id": "d42ab6fc-5872-4320-9c3d-372be64f56e7",
   "metadata": {},
   "outputs": [
    {
     "name": "stdout",
     "output_type": "stream",
     "text": [
      "<class 'pandas.core.frame.DataFrame'>\n",
      "RangeIndex: 18207 entries, 0 to 18206\n",
      "Data columns (total 60 columns):\n",
      " #   Column                    Non-Null Count  Dtype  \n",
      "---  ------                    --------------  -----  \n",
      " 0   ID                        18207 non-null  int64  \n",
      " 1   Name                      18207 non-null  object \n",
      " 2   Age                       18207 non-null  int64  \n",
      " 3   Photo                     18207 non-null  object \n",
      " 4   Nationality               18207 non-null  object \n",
      " 5   Flag                      18207 non-null  object \n",
      " 6   Overall                   18207 non-null  int64  \n",
      " 7   Potential                 18207 non-null  int64  \n",
      " 8   Club                      17966 non-null  object \n",
      " 9   Club Logo                 18207 non-null  object \n",
      " 10  Value                     18207 non-null  object \n",
      " 11  Wage                      18207 non-null  object \n",
      " 12  Preferred Foot            18159 non-null  object \n",
      " 13  International Reputation  18159 non-null  float64\n",
      " 14  Weak Foot                 18159 non-null  float64\n",
      " 15  Skill Moves               18159 non-null  float64\n",
      " 16  Work Rate                 18159 non-null  object \n",
      " 17  Body Type                 18159 non-null  object \n",
      " 18  Position                  18147 non-null  object \n",
      " 19  Jersey Number             18147 non-null  float64\n",
      " 20  Joined                    16654 non-null  object \n",
      " 21  Loaned From               1264 non-null   object \n",
      " 22  Contract Valid Until      17918 non-null  object \n",
      " 23  Height                    18159 non-null  object \n",
      " 24  Weight                    18159 non-null  object \n",
      " 25  Crossing                  18159 non-null  float64\n",
      " 26  Finishing                 18159 non-null  float64\n",
      " 27  HeadingAccuracy           18159 non-null  float64\n",
      " 28  ShortPassing              18159 non-null  float64\n",
      " 29  Volleys                   18159 non-null  float64\n",
      " 30  Dribbling                 18159 non-null  float64\n",
      " 31  Curve                     18159 non-null  float64\n",
      " 32  FKAccuracy                18159 non-null  float64\n",
      " 33  LongPassing               18159 non-null  float64\n",
      " 34  BallControl               18159 non-null  float64\n",
      " 35  Acceleration              18159 non-null  float64\n",
      " 36  SprintSpeed               18159 non-null  float64\n",
      " 37  Agility                   18159 non-null  float64\n",
      " 38  Reactions                 18159 non-null  float64\n",
      " 39  Balance                   18159 non-null  float64\n",
      " 40  ShotPower                 18159 non-null  float64\n",
      " 41  Jumping                   18159 non-null  float64\n",
      " 42  Stamina                   18159 non-null  float64\n",
      " 43  Strength                  18159 non-null  float64\n",
      " 44  LongShots                 18159 non-null  float64\n",
      " 45  Aggression                18159 non-null  float64\n",
      " 46  Interceptions             18159 non-null  float64\n",
      " 47  Positioning               18159 non-null  float64\n",
      " 48  Vision                    18159 non-null  float64\n",
      " 49  Penalties                 18159 non-null  float64\n",
      " 50  Composure                 18159 non-null  float64\n",
      " 51  Marking                   18159 non-null  float64\n",
      " 52  StandingTackle            18159 non-null  float64\n",
      " 53  SlidingTackle             18159 non-null  float64\n",
      " 54  GKDiving                  18159 non-null  float64\n",
      " 55  GKHandling                18159 non-null  float64\n",
      " 56  GKKicking                 18159 non-null  float64\n",
      " 57  GKPositioning             18159 non-null  float64\n",
      " 58  GKReflexes                18159 non-null  float64\n",
      " 59  Release Clause            16643 non-null  object \n",
      "dtypes: float64(38), int64(4), object(18)\n",
      "memory usage: 8.3+ MB\n"
     ]
    }
   ],
   "source": [
    "fifa_df.info()"
   ]
  },
  {
   "cell_type": "code",
   "execution_count": 7,
   "id": "6a98bad0-cdae-4c87-a214-6b73a649b910",
   "metadata": {},
   "outputs": [
    {
     "data": {
      "text/html": [
       "<div>\n",
       "<style scoped>\n",
       "    .dataframe tbody tr th:only-of-type {\n",
       "        vertical-align: middle;\n",
       "    }\n",
       "\n",
       "    .dataframe tbody tr th {\n",
       "        vertical-align: top;\n",
       "    }\n",
       "\n",
       "    .dataframe thead th {\n",
       "        text-align: right;\n",
       "    }\n",
       "</style>\n",
       "<table border=\"1\" class=\"dataframe\">\n",
       "  <thead>\n",
       "    <tr style=\"text-align: right;\">\n",
       "      <th></th>\n",
       "      <th>ID</th>\n",
       "      <th>Name</th>\n",
       "      <th>Age</th>\n",
       "      <th>Nationality</th>\n",
       "      <th>Overall</th>\n",
       "      <th>Potential</th>\n",
       "      <th>Club</th>\n",
       "      <th>Value</th>\n",
       "      <th>Wage</th>\n",
       "      <th>Preferred Foot</th>\n",
       "      <th>...</th>\n",
       "      <th>Composure</th>\n",
       "      <th>Marking</th>\n",
       "      <th>StandingTackle</th>\n",
       "      <th>SlidingTackle</th>\n",
       "      <th>GKDiving</th>\n",
       "      <th>GKHandling</th>\n",
       "      <th>GKKicking</th>\n",
       "      <th>GKPositioning</th>\n",
       "      <th>GKReflexes</th>\n",
       "      <th>Release Clause</th>\n",
       "    </tr>\n",
       "  </thead>\n",
       "  <tbody>\n",
       "    <tr>\n",
       "      <th>0</th>\n",
       "      <td>158023</td>\n",
       "      <td>L. Messi</td>\n",
       "      <td>31</td>\n",
       "      <td>Argentina</td>\n",
       "      <td>94</td>\n",
       "      <td>94</td>\n",
       "      <td>FC Barcelona</td>\n",
       "      <td>€110.5M</td>\n",
       "      <td>€565K</td>\n",
       "      <td>Left</td>\n",
       "      <td>...</td>\n",
       "      <td>96.0</td>\n",
       "      <td>33.0</td>\n",
       "      <td>28.0</td>\n",
       "      <td>26.0</td>\n",
       "      <td>6.0</td>\n",
       "      <td>11.0</td>\n",
       "      <td>15.0</td>\n",
       "      <td>14.0</td>\n",
       "      <td>8.0</td>\n",
       "      <td>€226.5M</td>\n",
       "    </tr>\n",
       "    <tr>\n",
       "      <th>1</th>\n",
       "      <td>20801</td>\n",
       "      <td>Cristiano Ronaldo</td>\n",
       "      <td>33</td>\n",
       "      <td>Portugal</td>\n",
       "      <td>94</td>\n",
       "      <td>94</td>\n",
       "      <td>Juventus</td>\n",
       "      <td>€77M</td>\n",
       "      <td>€405K</td>\n",
       "      <td>Right</td>\n",
       "      <td>...</td>\n",
       "      <td>95.0</td>\n",
       "      <td>28.0</td>\n",
       "      <td>31.0</td>\n",
       "      <td>23.0</td>\n",
       "      <td>7.0</td>\n",
       "      <td>11.0</td>\n",
       "      <td>15.0</td>\n",
       "      <td>14.0</td>\n",
       "      <td>11.0</td>\n",
       "      <td>€127.1M</td>\n",
       "    </tr>\n",
       "  </tbody>\n",
       "</table>\n",
       "<p>2 rows × 57 columns</p>\n",
       "</div>"
      ],
      "text/plain": [
       "       ID               Name  Age Nationality  Overall  Potential  \\\n",
       "0  158023           L. Messi   31   Argentina       94         94   \n",
       "1   20801  Cristiano Ronaldo   33    Portugal       94         94   \n",
       "\n",
       "           Club    Value   Wage Preferred Foot  ...  Composure  Marking  \\\n",
       "0  FC Barcelona  €110.5M  €565K           Left  ...       96.0     33.0   \n",
       "1      Juventus     €77M  €405K          Right  ...       95.0     28.0   \n",
       "\n",
       "   StandingTackle SlidingTackle GKDiving GKHandling  GKKicking GKPositioning  \\\n",
       "0            28.0          26.0      6.0       11.0       15.0          14.0   \n",
       "1            31.0          23.0      7.0       11.0       15.0          14.0   \n",
       "\n",
       "  GKReflexes Release Clause  \n",
       "0        8.0        €226.5M  \n",
       "1       11.0        €127.1M  \n",
       "\n",
       "[2 rows x 57 columns]"
      ]
     },
     "execution_count": 7,
     "metadata": {},
     "output_type": "execute_result"
    }
   ],
   "source": [
    "fifa_df.drop(columns=['Photo','Flag','Club Logo'],inplace=True)\n",
    "fifa_df.head(2)"
   ]
  },
  {
   "cell_type": "code",
   "execution_count": 8,
   "id": "a454fd71-88ef-4db3-b4c3-3cd2184e92b2",
   "metadata": {},
   "outputs": [],
   "source": [
    "def convert_to_float(value):\n",
    "    value = str(value).replace('€', '').replace('M', 'e6').replace('K', 'e3')\n",
    "    return float(value)\n",
    "\n",
    "fifa_df['Value'] = fifa_df['Value'].apply(convert_to_float)\n",
    "fifa_df['Wage'] = fifa_df['Wage'].apply(convert_to_float)\n",
    "fifa_df['Release Clause'] = fifa_df['Release Clause'].apply(convert_to_float)"
   ]
  },
  {
   "cell_type": "code",
   "execution_count": 9,
   "id": "a9467a39-c30a-4f69-9ef6-a306fcf4b5ad",
   "metadata": {},
   "outputs": [
    {
     "data": {
      "text/html": [
       "<div>\n",
       "<style scoped>\n",
       "    .dataframe tbody tr th:only-of-type {\n",
       "        vertical-align: middle;\n",
       "    }\n",
       "\n",
       "    .dataframe tbody tr th {\n",
       "        vertical-align: top;\n",
       "    }\n",
       "\n",
       "    .dataframe thead th {\n",
       "        text-align: right;\n",
       "    }\n",
       "</style>\n",
       "<table border=\"1\" class=\"dataframe\">\n",
       "  <thead>\n",
       "    <tr style=\"text-align: right;\">\n",
       "      <th></th>\n",
       "      <th>ID</th>\n",
       "      <th>Name</th>\n",
       "      <th>Age</th>\n",
       "      <th>Nationality</th>\n",
       "      <th>Overall</th>\n",
       "      <th>Potential</th>\n",
       "      <th>Club</th>\n",
       "      <th>Value</th>\n",
       "      <th>Wage</th>\n",
       "      <th>Preferred Foot</th>\n",
       "      <th>...</th>\n",
       "      <th>Composure</th>\n",
       "      <th>Marking</th>\n",
       "      <th>StandingTackle</th>\n",
       "      <th>SlidingTackle</th>\n",
       "      <th>GKDiving</th>\n",
       "      <th>GKHandling</th>\n",
       "      <th>GKKicking</th>\n",
       "      <th>GKPositioning</th>\n",
       "      <th>GKReflexes</th>\n",
       "      <th>Release Clause</th>\n",
       "    </tr>\n",
       "  </thead>\n",
       "  <tbody>\n",
       "    <tr>\n",
       "      <th>0</th>\n",
       "      <td>158023</td>\n",
       "      <td>L. Messi</td>\n",
       "      <td>31</td>\n",
       "      <td>Argentina</td>\n",
       "      <td>94</td>\n",
       "      <td>94</td>\n",
       "      <td>FC Barcelona</td>\n",
       "      <td>110500000.0</td>\n",
       "      <td>565000.0</td>\n",
       "      <td>Left</td>\n",
       "      <td>...</td>\n",
       "      <td>96.0</td>\n",
       "      <td>33.0</td>\n",
       "      <td>28.0</td>\n",
       "      <td>26.0</td>\n",
       "      <td>6.0</td>\n",
       "      <td>11.0</td>\n",
       "      <td>15.0</td>\n",
       "      <td>14.0</td>\n",
       "      <td>8.0</td>\n",
       "      <td>226500000.0</td>\n",
       "    </tr>\n",
       "    <tr>\n",
       "      <th>1</th>\n",
       "      <td>20801</td>\n",
       "      <td>Cristiano Ronaldo</td>\n",
       "      <td>33</td>\n",
       "      <td>Portugal</td>\n",
       "      <td>94</td>\n",
       "      <td>94</td>\n",
       "      <td>Juventus</td>\n",
       "      <td>77000000.0</td>\n",
       "      <td>405000.0</td>\n",
       "      <td>Right</td>\n",
       "      <td>...</td>\n",
       "      <td>95.0</td>\n",
       "      <td>28.0</td>\n",
       "      <td>31.0</td>\n",
       "      <td>23.0</td>\n",
       "      <td>7.0</td>\n",
       "      <td>11.0</td>\n",
       "      <td>15.0</td>\n",
       "      <td>14.0</td>\n",
       "      <td>11.0</td>\n",
       "      <td>127100000.0</td>\n",
       "    </tr>\n",
       "  </tbody>\n",
       "</table>\n",
       "<p>2 rows × 57 columns</p>\n",
       "</div>"
      ],
      "text/plain": [
       "       ID               Name  Age Nationality  Overall  Potential  \\\n",
       "0  158023           L. Messi   31   Argentina       94         94   \n",
       "1   20801  Cristiano Ronaldo   33    Portugal       94         94   \n",
       "\n",
       "           Club        Value      Wage Preferred Foot  ...  Composure  \\\n",
       "0  FC Barcelona  110500000.0  565000.0           Left  ...       96.0   \n",
       "1      Juventus   77000000.0  405000.0          Right  ...       95.0   \n",
       "\n",
       "   Marking  StandingTackle SlidingTackle GKDiving GKHandling  GKKicking  \\\n",
       "0     33.0            28.0          26.0      6.0       11.0       15.0   \n",
       "1     28.0            31.0          23.0      7.0       11.0       15.0   \n",
       "\n",
       "  GKPositioning GKReflexes Release Clause  \n",
       "0          14.0        8.0    226500000.0  \n",
       "1          14.0       11.0    127100000.0  \n",
       "\n",
       "[2 rows x 57 columns]"
      ]
     },
     "execution_count": 9,
     "metadata": {},
     "output_type": "execute_result"
    }
   ],
   "source": [
    "fifa_df.head(2)"
   ]
  },
  {
   "cell_type": "code",
   "execution_count": 10,
   "id": "94c65603-90af-4d94-9657-8c5d75881e5c",
   "metadata": {},
   "outputs": [
    {
     "data": {
      "text/plain": [
       "0    2004.0\n",
       "1    2018.0\n",
       "2    2017.0\n",
       "3    2011.0\n",
       "4    2015.0\n",
       "Name: Joined, dtype: float64"
      ]
     },
     "execution_count": 10,
     "metadata": {},
     "output_type": "execute_result"
    }
   ],
   "source": [
    "fifa_df['Joined'] = pd.to_datetime(fifa_df['Joined'], errors='coerce').dt.year\n",
    "fifa_df['Joined'].head()"
   ]
  },
  {
   "cell_type": "code",
   "execution_count": 11,
   "id": "6dc5d1a3-680d-468f-a7d8-db5246be8e1e",
   "metadata": {},
   "outputs": [
    {
     "data": {
      "text/plain": [
       "0   2021-01-01\n",
       "1   2022-01-01\n",
       "2   2022-01-01\n",
       "3   2020-01-01\n",
       "4   2023-01-01\n",
       "Name: Contract Valid Until, dtype: datetime64[ns]"
      ]
     },
     "execution_count": 11,
     "metadata": {},
     "output_type": "execute_result"
    }
   ],
   "source": [
    "fifa_df['Contract Valid Until'] = pd.to_datetime(fifa_df['Contract Valid Until'], errors='coerce')\n",
    "fifa_df['Contract Valid Until'].head()"
   ]
  },
  {
   "cell_type": "code",
   "execution_count": 12,
   "id": "6faa8c7b-4542-40a7-97aa-25d949ed75a1",
   "metadata": {},
   "outputs": [
    {
     "name": "stdout",
     "output_type": "stream",
     "text": [
      "0    67.0\n",
      "1    74.0\n",
      "2    69.0\n",
      "3    76.0\n",
      "4    71.0\n",
      "Name: Height, dtype: float64\n"
     ]
    }
   ],
   "source": [
    "def convert_height(height):\n",
    "    try:\n",
    "        feet, inches = height.split(\"'\")\n",
    "        return float(feet) * 12 + float(inches)\n",
    "    except:\n",
    "        return np.nan  # handle possible non-numeric values\n",
    "\n",
    "fifa_df['Height'] = fifa_df['Height'].apply(convert_height)\n",
    "print(fifa_df['Height'].head())"
   ]
  },
  {
   "cell_type": "code",
   "execution_count": 13,
   "id": "7bb720a4-aadc-409e-b8aa-a2519dd36c15",
   "metadata": {},
   "outputs": [
    {
     "name": "stdout",
     "output_type": "stream",
     "text": [
      "0    159.0\n",
      "1    183.0\n",
      "2    150.0\n",
      "3    168.0\n",
      "4    154.0\n",
      "Name: Weight, dtype: float64\n"
     ]
    }
   ],
   "source": [
    "def convert_weight(weight):\n",
    "    weight = str(weight).replace('lbs', '')\n",
    "    return float(weight)\n",
    "\n",
    "fifa_df['Weight'] = fifa_df['Weight'].apply(convert_weight)\n",
    "print(fifa_df['Weight'].head())"
   ]
  },
  {
   "cell_type": "code",
   "execution_count": 13,
   "id": "6c67e602-5050-4476-8e7f-3eb34fc42c87",
   "metadata": {},
   "outputs": [
    {
     "data": {
      "text/plain": [
       "ID                           0.000000\n",
       "Name                         0.000000\n",
       "Age                          0.000000\n",
       "Nationality                  0.000000\n",
       "Overall                      0.000000\n",
       "Potential                    0.000000\n",
       "Club                         1.323667\n",
       "Value                        0.000000\n",
       "Wage                         0.000000\n",
       "Preferred Foot               0.263635\n",
       "International Reputation     0.263635\n",
       "Weak Foot                    0.263635\n",
       "Skill Moves                  0.263635\n",
       "Work Rate                    0.263635\n",
       "Body Type                    0.263635\n",
       "Position                     0.329544\n",
       "Jersey Number                0.329544\n",
       "Joined                       8.529686\n",
       "Loaned From                 93.057615\n",
       "Contract Valid Until         8.529686\n",
       "Height                       0.263635\n",
       "Weight                       0.263635\n",
       "Crossing                     0.263635\n",
       "Finishing                    0.263635\n",
       "HeadingAccuracy              0.263635\n",
       "ShortPassing                 0.263635\n",
       "Volleys                      0.263635\n",
       "Dribbling                    0.263635\n",
       "Curve                        0.263635\n",
       "FKAccuracy                   0.263635\n",
       "LongPassing                  0.263635\n",
       "BallControl                  0.263635\n",
       "Acceleration                 0.263635\n",
       "SprintSpeed                  0.263635\n",
       "Agility                      0.263635\n",
       "Reactions                    0.263635\n",
       "Balance                      0.263635\n",
       "ShotPower                    0.263635\n",
       "Jumping                      0.263635\n",
       "Stamina                      0.263635\n",
       "Strength                     0.263635\n",
       "LongShots                    0.263635\n",
       "Aggression                   0.263635\n",
       "Interceptions                0.263635\n",
       "Positioning                  0.263635\n",
       "Vision                       0.263635\n",
       "Penalties                    0.263635\n",
       "Composure                    0.263635\n",
       "Marking                      0.263635\n",
       "StandingTackle               0.263635\n",
       "SlidingTackle                0.263635\n",
       "GKDiving                     0.263635\n",
       "GKHandling                   0.263635\n",
       "GKKicking                    0.263635\n",
       "GKPositioning                0.263635\n",
       "GKReflexes                   0.263635\n",
       "Release Clause               8.590103\n",
       "dtype: float64"
      ]
     },
     "execution_count": 13,
     "metadata": {},
     "output_type": "execute_result"
    }
   ],
   "source": [
    "fifa_df.isnull().sum()/len(fifa_df)*100"
   ]
  },
  {
   "cell_type": "code",
   "execution_count": 14,
   "id": "4e4d7fea-693e-42a0-aee5-099789923e2c",
   "metadata": {},
   "outputs": [],
   "source": [
    "# impute missing values\n",
    "for column in fifa_df.columns:\n",
    "    if fifa_df[column].dtype == 'object':  # Check if the column is of object type\n",
    "        fifa_df[column].fillna(fifa_df[column].mode()[0], inplace=True)\n",
    "    else:  # If the column is numeric type\n",
    "        fifa_df[column].fillna(fifa_df[column].mean(), inplace=True)"
   ]
  },
  {
   "cell_type": "code",
   "execution_count": 15,
   "id": "e40e88e1-133a-4640-889d-dc73184a0a23",
   "metadata": {},
   "outputs": [
    {
     "data": {
      "image/png": "[encoded data removed]",
      "text/plain": [
       "<Figure size 1000x600 with 1 Axes>"
      ]
     },
     "metadata": {},
     "output_type": "display_data"
    }
   ],
   "source": [
    "plt.figure(figsize=(10, 6))\n",
    "sns.histplot(fifa_df['Overall'], kde = True)\n",
    "plt.title('Distribution of Overall Rating of Players')\n",
    "plt.xlabel('Overall Rating')\n",
    "plt.ylabel('Frequency')\n",
    "plt.show()"
   ]
  },
  {
   "cell_type": "markdown",
   "id": "07401838-0f01-4c76-9f52-fc98cf5a033c",
   "metadata": {},
   "source": [
    "We can see that the perfect bell shape suggest that the data is normally distributed"
   ]
  },
  {
   "cell_type": "code",
   "execution_count": 16,
   "id": "b66d4a9d-5c88-4979-aaa1-6b964a2310d1",
   "metadata": {},
   "outputs": [
    {
     "name": "stdout",
     "output_type": "stream",
     "text": [
      "                 Name  Overall\n",
      "0            L. Messi       94\n",
      "1   Cristiano Ronaldo       94\n",
      "2           Neymar Jr       92\n",
      "3              De Gea       91\n",
      "4        K. De Bruyne       91\n",
      "5           E. Hazard       91\n",
      "6           L. Modrić       91\n",
      "7           L. Suárez       91\n",
      "8        Sergio Ramos       91\n",
      "9            J. Oblak       90\n",
      "10     R. Lewandowski       90\n",
      "11           T. Kroos       90\n",
      "12           D. Godín       90\n",
      "13        David Silva       90\n",
      "14           N. Kanté       89\n",
      "15          P. Dybala       89\n",
      "16            H. Kane       89\n",
      "17       A. Griezmann       89\n",
      "18      M. ter Stegen       89\n",
      "19        T. Courtois       89\n"
     ]
    }
   ],
   "source": [
    "Top_20= fifa_df.nlargest(20,'Overall')[['Name','Overall']]\n",
    "print(Top_20)"
   ]
  },
  {
   "cell_type": "code",
   "execution_count": 17,
   "id": "ef4a0128-ddfb-49a6-96bf-f3ccf8b15793",
   "metadata": {},
   "outputs": [
    {
     "name": "stdout",
     "output_type": "stream",
     "text": [
      "        ID               Name  Age Nationality  Overall  Potential  \\\n",
      "0   158023           L. Messi   31   Argentina       94         94   \n",
      "1    20801  Cristiano Ronaldo   33    Portugal       94         94   \n",
      "2   190871          Neymar Jr   26      Brazil       92         93   \n",
      "3   193080             De Gea   27       Spain       91         93   \n",
      "4   192985       K. De Bruyne   27     Belgium       91         92   \n",
      "5   183277          E. Hazard   27     Belgium       91         91   \n",
      "6   177003          L. Modrić   32     Croatia       91         91   \n",
      "7   176580          L. Suárez   31     Uruguay       91         91   \n",
      "8   155862       Sergio Ramos   32       Spain       91         91   \n",
      "9   200389           J. Oblak   25    Slovenia       90         93   \n",
      "10  188545     R. Lewandowski   29      Poland       90         90   \n",
      "11  182521           T. Kroos   28     Germany       90         90   \n",
      "12  182493           D. Godín   32     Uruguay       90         90   \n",
      "13  168542        David Silva   32       Spain       90         90   \n",
      "14  215914           N. Kanté   27      France       89         90   \n",
      "15  211110          P. Dybala   24   Argentina       89         94   \n",
      "16  202126            H. Kane   24     England       89         91   \n",
      "17  194765       A. Griezmann   27      France       89         90   \n",
      "18  192448      M. ter Stegen   26     Germany       89         92   \n",
      "19  192119        T. Courtois   26     Belgium       89         90   \n",
      "\n",
      "                   Club        Value      Wage Preferred Foot  ...  Composure  \\\n",
      "0          FC Barcelona  110500000.0  565000.0           Left  ...       96.0   \n",
      "1              Juventus   77000000.0  405000.0          Right  ...       95.0   \n",
      "2   Paris Saint-Germain  118500000.0  290000.0          Right  ...       94.0   \n",
      "3     Manchester United   72000000.0  260000.0          Right  ...       68.0   \n",
      "4       Manchester City  102000000.0  355000.0          Right  ...       88.0   \n",
      "5               Chelsea   93000000.0  340000.0          Right  ...       91.0   \n",
      "6           Real Madrid   67000000.0  420000.0          Right  ...       84.0   \n",
      "7          FC Barcelona   80000000.0  455000.0          Right  ...       85.0   \n",
      "8           Real Madrid   51000000.0  380000.0          Right  ...       82.0   \n",
      "9       Atlético Madrid   68000000.0   94000.0          Right  ...       70.0   \n",
      "10    FC Bayern München   77000000.0  205000.0          Right  ...       86.0   \n",
      "11          Real Madrid   76500000.0  355000.0          Right  ...       85.0   \n",
      "12      Atlético Madrid   44000000.0  125000.0          Right  ...       82.0   \n",
      "13      Manchester City   60000000.0  285000.0           Left  ...       93.0   \n",
      "14              Chelsea   63000000.0  225000.0          Right  ...       85.0   \n",
      "15             Juventus   89000000.0  205000.0           Left  ...       84.0   \n",
      "16    Tottenham Hotspur   83500000.0  205000.0          Right  ...       89.0   \n",
      "17      Atlético Madrid   78000000.0  145000.0           Left  ...       87.0   \n",
      "18         FC Barcelona   58000000.0  240000.0          Right  ...       69.0   \n",
      "19          Real Madrid   53500000.0  240000.0           Left  ...       66.0   \n",
      "\n",
      "    Marking  StandingTackle SlidingTackle GKDiving GKHandling  GKKicking  \\\n",
      "0      33.0            28.0          26.0      6.0       11.0       15.0   \n",
      "1      28.0            31.0          23.0      7.0       11.0       15.0   \n",
      "2      27.0            24.0          33.0      9.0        9.0       15.0   \n",
      "3      15.0            21.0          13.0     90.0       85.0       87.0   \n",
      "4      68.0            58.0          51.0     15.0       13.0        5.0   \n",
      "5      34.0            27.0          22.0     11.0       12.0        6.0   \n",
      "6      60.0            76.0          73.0     13.0        9.0        7.0   \n",
      "7      62.0            45.0          38.0     27.0       25.0       31.0   \n",
      "8      87.0            92.0          91.0     11.0        8.0        9.0   \n",
      "9      27.0            12.0          18.0     86.0       92.0       78.0   \n",
      "10     34.0            42.0          19.0     15.0        6.0       12.0   \n",
      "11     72.0            79.0          69.0     10.0       11.0       13.0   \n",
      "12     90.0            89.0          89.0      6.0        8.0       15.0   \n",
      "13     59.0            53.0          29.0      6.0       15.0        7.0   \n",
      "14     90.0            91.0          85.0     15.0       12.0       10.0   \n",
      "15     23.0            20.0          20.0      5.0        4.0        4.0   \n",
      "16     56.0            36.0          38.0      8.0       10.0       11.0   \n",
      "17     59.0            47.0          48.0     14.0        8.0       14.0   \n",
      "18     25.0            13.0          10.0     87.0       85.0       88.0   \n",
      "19     20.0            18.0          16.0     85.0       91.0       72.0   \n",
      "\n",
      "    GKPositioning GKReflexes Release Clause  \n",
      "0            14.0        8.0    226500000.0  \n",
      "1            14.0       11.0    127100000.0  \n",
      "2            15.0       11.0    228100000.0  \n",
      "3            88.0       94.0    138600000.0  \n",
      "4            10.0       13.0    196400000.0  \n",
      "5             8.0        8.0    172100000.0  \n",
      "6            14.0        9.0    137400000.0  \n",
      "7            33.0       37.0    164000000.0  \n",
      "8             7.0       11.0    104600000.0  \n",
      "9            88.0       89.0    144500000.0  \n",
      "10            8.0       10.0    127100000.0  \n",
      "11            7.0       10.0    156800000.0  \n",
      "12            5.0       15.0     90200000.0  \n",
      "13            6.0       12.0    111000000.0  \n",
      "14            7.0       10.0    121300000.0  \n",
      "15            5.0        8.0    153500000.0  \n",
      "16           14.0       11.0    160700000.0  \n",
      "17           13.0       14.0    165800000.0  \n",
      "18           85.0       90.0    123300000.0  \n",
      "19           86.0       88.0    113700000.0  \n",
      "\n",
      "[20 rows x 57 columns]\n"
     ]
    }
   ],
   "source": [
    "Top_20 = fifa_df.nlargest(20,'Overall')\n",
    "print(Top_20)"
   ]
  },
  {
   "cell_type": "code",
   "execution_count": 18,
   "id": "9adf0f4f-ec0f-46f6-ae08-d3eb29b5002d",
   "metadata": {},
   "outputs": [
    {
     "name": "stdout",
     "output_type": "stream",
     "text": [
      "Average age of players:  28.3\n",
      "Average wage of players:  289700.0\n"
     ]
    }
   ],
   "source": [
    "Avg_Age= Top_20['Age'].mean()\n",
    "print('Average age of players: ', Avg_Age)\n",
    "Avg_Wage= Top_20['Wage'].mean()\n",
    "print('Average wage of players: ', Avg_Wage)"
   ]
  },
  {
   "cell_type": "code",
   "execution_count": 19,
   "id": "20ad0440-5691-45c4-be8b-209452bde80b",
   "metadata": {},
   "outputs": [
    {
     "name": "stdout",
     "output_type": "stream",
     "text": [
      "Player with highest wage: L. Messi, Wage: 565000.0\n"
     ]
    }
   ],
   "source": [
    "highest_wage_player = Top_20.loc[Top_20['Wage'].idxmax()]\n",
    "print(f\"Player with highest wage: {highest_wage_player['Name']}, Wage: {highest_wage_player['Wage']}\")"
   ]
  },
  {
   "cell_type": "markdown",
   "id": "34d26c29-381a-4021-85cf-b2e1cd90d422",
   "metadata": {},
   "source": [
    "Generate a dataframe which should include the \"Player name\", \"Club\r\n",
    "Name\", \"Wage\", and 'Overall rating'. (4 Points)\r\n",
    "- i) find the average Overall rating for each club.\r\n",
    "- ii) Display the average overall rating of Top10 Clubs using a plot"
   ]
  },
  {
   "cell_type": "code",
   "execution_count": 20,
   "id": "2036ca05-de09-4e66-9cbe-bf398790d78f",
   "metadata": {},
   "outputs": [
    {
     "name": "stdout",
     "output_type": "stream",
     "text": [
      "                     Name                 Club      Wage  Overall\n",
      "0                L. Messi         FC Barcelona  565000.0       94\n",
      "1       Cristiano Ronaldo             Juventus  405000.0       94\n",
      "2               Neymar Jr  Paris Saint-Germain  290000.0       92\n",
      "3                  De Gea    Manchester United  260000.0       91\n",
      "4            K. De Bruyne      Manchester City  355000.0       91\n",
      "...                   ...                  ...       ...      ...\n",
      "18202        J. Lundstram      Crewe Alexandra    1000.0       47\n",
      "18203  N. Christoffersson       Trelleborgs FF    1000.0       47\n",
      "18204           B. Worman     Cambridge United    1000.0       47\n",
      "18205      D. Walker-Rice      Tranmere Rovers    1000.0       47\n",
      "18206           G. Nugent      Tranmere Rovers    1000.0       46\n",
      "\n",
      "[18207 rows x 4 columns]\n",
      "                    Club    Overall\n",
      "326             Juventus  82.280000\n",
      "398               Napoli  80.000000\n",
      "315                Inter  79.750000\n",
      "470          Real Madrid  78.242424\n",
      "382                Milan  78.074074\n",
      "212         FC Barcelona  78.030303\n",
      "435  Paris Saint-Germain  77.433333\n",
      "482                 Roma  77.423077\n",
      "375    Manchester United  77.242424\n",
      "214    FC Bayern München  77.000000\n"
     ]
    }
   ],
   "source": [
    "player_club_info = fifa_df[['Name', 'Club', 'Wage', 'Overall']]\n",
    "print(player_club_info)\n",
    "avg_overall_rating = player_club_info.groupby('Club')['Overall'].mean().reset_index()\n",
    "top_10_clubs = avg_overall_rating.nlargest(10, 'Overall')\n",
    "print(top_10_clubs)"
   ]
  },
  {
   "cell_type": "code",
   "execution_count": 46,
   "id": "31495806-4e59-4275-9ffc-3575c3af460a",
   "metadata": {},
   "outputs": [
    {
     "data": {
      "image/png": "[encoded data removed]",
      "text/plain": [
       "<Figure size 1000x600 with 1 Axes>"
      ]
     },
     "metadata": {},
     "output_type": "display_data"
    }
   ],
   "source": [
    "plt.figure(figsize=(10, 6))\n",
    "sns.barplot(x='Overall', y='Club', data=top_10_clubs)\n",
    "plt.title('Average Overall Rating of Top 10 Clubs')\n",
    "plt.show()"
   ]
  },
  {
   "cell_type": "markdown",
   "id": "3cee3831-936c-4b6c-850f-f64e0bea547d",
   "metadata": {},
   "source": [
    "What is the relationship between age and individual potential of the\r\n",
    "player? Visualize the relationship with appropriate plot and Comment on\r\n",
    "the same"
   ]
  },
  {
   "cell_type": "code",
   "execution_count": 21,
   "id": "0f61b31b-e72d-4ed8-89b8-65d3a7d89ea8",
   "metadata": {},
   "outputs": [
    {
     "data": {
      "image/png": "[encoded data removed]",
      "text/plain": [
       "<Figure size 640x480 with 1 Axes>"
      ]
     },
     "metadata": {},
     "output_type": "display_data"
    }
   ],
   "source": [
    "sns.scatterplot(x = 'Age', y = 'Potential', data = fifa_df)\n",
    "plt.show()"
   ]
  },
  {
   "cell_type": "markdown",
   "id": "c4789996-7875-4103-b111-a5145f346793",
   "metadata": {},
   "source": [
    "Younger players may tend to have higher potential, indicating they have room for growth. Older players might have more stable but lower potential."
   ]
  },
  {
   "cell_type": "markdown",
   "id": "7e646b57-8fbe-42ea-9613-3f0ae45a90c7",
   "metadata": {},
   "source": [
    "Which features directly contribute to the wages of the players?\n",
    "Support your answer with a plot and a metric. (2 points) (hint: use\n",
    "potential, Overall, value, international reputation, and Release Clause)"
   ]
  },
  {
   "cell_type": "code",
   "execution_count": 22,
   "id": "a891cb8c-39e4-4ef8-8912-c7d0091e7757",
   "metadata": {},
   "outputs": [
    {
     "name": "stdout",
     "output_type": "stream",
     "text": [
      "                              Wage  Potential   Overall     Value  \\\n",
      "Wage                      1.000000   0.486413  0.571926  0.858442   \n",
      "Potential                 0.486413   1.000000  0.660939  0.576218   \n",
      "Overall                   0.571926   0.660939  1.000000  0.627085   \n",
      "Value                     0.858442   0.576218  0.627085  1.000000   \n",
      "International Reputation  0.668515   0.372375  0.499243  0.653059   \n",
      "Release Clause            0.828161   0.562346  0.597821  0.972041   \n",
      "\n",
      "                          International Reputation  Release Clause  \n",
      "Wage                                      0.668515        0.828161  \n",
      "Potential                                 0.372375        0.562346  \n",
      "Overall                                   0.499243        0.597821  \n",
      "Value                                     0.653059        0.972041  \n",
      "International Reputation                  1.000000        0.620863  \n",
      "Release Clause                            0.620863        1.000000  \n"
     ]
    },
    {
     "data": {
      "image/png": "[encoded data removed]",
      "text/plain": [
       "<Figure size 640x480 with 2 Axes>"
      ]
     },
     "metadata": {},
     "output_type": "display_data"
    }
   ],
   "source": [
    "correlation_matrix = fifa_df[['Wage', 'Potential', 'Overall', 'Value', 'International Reputation', 'Release Clause']].corr()\n",
    "print(correlation_matrix)\n",
    "\n",
    "sns.heatmap(correlation_matrix, annot=True)\n",
    "plt.title('Correlation Matrix of Features Contributing to Wages')\n",
    "plt.show()"
   ]
  },
  {
   "cell_type": "markdown",
   "id": "cd24bd40-c5c8-4dc5-8db7-49ff7dd591a0",
   "metadata": {},
   "source": [
    "Features like Overall rating, Potential, Value, and Release Clause might show a strong positive correlation with Wage."
   ]
  },
  {
   "cell_type": "markdown",
   "id": "2b2b20af-46cc-4a2d-b94c-8b9b316c2dab",
   "metadata": {},
   "source": [
    "Find the position in the pitch where the maximum number of players\n",
    "play and the position where the minimum number of players play? Display\n",
    "it using a plot"
   ]
  },
  {
   "cell_type": "code",
   "execution_count": 23,
   "id": "b0df9c0b-4071-4a0d-9def-bfff513448ac",
   "metadata": {},
   "outputs": [
    {
     "data": {
      "image/png": "[encoded data removed]",
      "text/plain": [
       "<Figure size 1000x600 with 1 Axes>"
      ]
     },
     "metadata": {},
     "output_type": "display_data"
    }
   ],
   "source": [
    "position_count = fifa_df['Position'].value_counts()\n",
    "\n",
    "# Plotting\n",
    "plt.figure(figsize=(10, 6))\n",
    "sns.barplot(x=position_count.index, y=position_count.values)\n",
    "plt.title('Number of Players in Each Position')\n",
    "plt.show()"
   ]
  },
  {
   "cell_type": "markdown",
   "id": "9ce43eff-b698-4bb3-bcb6-c0bde22d4bd5",
   "metadata": {},
   "source": [
    "How many players are from the club 'Juventus' and the wage is greater\n",
    "than 200K? Display all the information of such players"
   ]
  },
  {
   "cell_type": "code",
   "execution_count": 24,
   "id": "77f8b9bf-f9fe-45c3-a252-068288e77a1e",
   "metadata": {},
   "outputs": [
    {
     "data": {
      "text/html": [
       "<div>\n",
       "<style scoped>\n",
       "    .dataframe tbody tr th:only-of-type {\n",
       "        vertical-align: middle;\n",
       "    }\n",
       "\n",
       "    .dataframe tbody tr th {\n",
       "        vertical-align: top;\n",
       "    }\n",
       "\n",
       "    .dataframe thead th {\n",
       "        text-align: right;\n",
       "    }\n",
       "</style>\n",
       "<table border=\"1\" class=\"dataframe\">\n",
       "  <thead>\n",
       "    <tr style=\"text-align: right;\">\n",
       "      <th></th>\n",
       "      <th>ID</th>\n",
       "      <th>Name</th>\n",
       "      <th>Age</th>\n",
       "      <th>Nationality</th>\n",
       "      <th>Overall</th>\n",
       "      <th>Potential</th>\n",
       "      <th>Club</th>\n",
       "      <th>Value</th>\n",
       "      <th>Wage</th>\n",
       "      <th>Preferred Foot</th>\n",
       "      <th>...</th>\n",
       "      <th>Composure</th>\n",
       "      <th>Marking</th>\n",
       "      <th>StandingTackle</th>\n",
       "      <th>SlidingTackle</th>\n",
       "      <th>GKDiving</th>\n",
       "      <th>GKHandling</th>\n",
       "      <th>GKKicking</th>\n",
       "      <th>GKPositioning</th>\n",
       "      <th>GKReflexes</th>\n",
       "      <th>Release Clause</th>\n",
       "    </tr>\n",
       "  </thead>\n",
       "  <tbody>\n",
       "    <tr>\n",
       "      <th>1</th>\n",
       "      <td>20801</td>\n",
       "      <td>Cristiano Ronaldo</td>\n",
       "      <td>33</td>\n",
       "      <td>Portugal</td>\n",
       "      <td>94</td>\n",
       "      <td>94</td>\n",
       "      <td>Juventus</td>\n",
       "      <td>77000000.0</td>\n",
       "      <td>405000.0</td>\n",
       "      <td>Right</td>\n",
       "      <td>...</td>\n",
       "      <td>95.0</td>\n",
       "      <td>28.0</td>\n",
       "      <td>31.0</td>\n",
       "      <td>23.0</td>\n",
       "      <td>7.0</td>\n",
       "      <td>11.0</td>\n",
       "      <td>15.0</td>\n",
       "      <td>14.0</td>\n",
       "      <td>11.0</td>\n",
       "      <td>127100000.0</td>\n",
       "    </tr>\n",
       "    <tr>\n",
       "      <th>15</th>\n",
       "      <td>211110</td>\n",
       "      <td>P. Dybala</td>\n",
       "      <td>24</td>\n",
       "      <td>Argentina</td>\n",
       "      <td>89</td>\n",
       "      <td>94</td>\n",
       "      <td>Juventus</td>\n",
       "      <td>89000000.0</td>\n",
       "      <td>205000.0</td>\n",
       "      <td>Left</td>\n",
       "      <td>...</td>\n",
       "      <td>84.0</td>\n",
       "      <td>23.0</td>\n",
       "      <td>20.0</td>\n",
       "      <td>20.0</td>\n",
       "      <td>5.0</td>\n",
       "      <td>4.0</td>\n",
       "      <td>4.0</td>\n",
       "      <td>5.0</td>\n",
       "      <td>8.0</td>\n",
       "      <td>153500000.0</td>\n",
       "    </tr>\n",
       "    <tr>\n",
       "      <th>24</th>\n",
       "      <td>138956</td>\n",
       "      <td>G. Chiellini</td>\n",
       "      <td>33</td>\n",
       "      <td>Italy</td>\n",
       "      <td>89</td>\n",
       "      <td>89</td>\n",
       "      <td>Juventus</td>\n",
       "      <td>27000000.0</td>\n",
       "      <td>215000.0</td>\n",
       "      <td>Left</td>\n",
       "      <td>...</td>\n",
       "      <td>84.0</td>\n",
       "      <td>93.0</td>\n",
       "      <td>93.0</td>\n",
       "      <td>90.0</td>\n",
       "      <td>3.0</td>\n",
       "      <td>3.0</td>\n",
       "      <td>2.0</td>\n",
       "      <td>4.0</td>\n",
       "      <td>3.0</td>\n",
       "      <td>44600000.0</td>\n",
       "    </tr>\n",
       "  </tbody>\n",
       "</table>\n",
       "<p>3 rows × 57 columns</p>\n",
       "</div>"
      ],
      "text/plain": [
       "        ID               Name  Age Nationality  Overall  Potential      Club  \\\n",
       "1    20801  Cristiano Ronaldo   33    Portugal       94         94  Juventus   \n",
       "15  211110          P. Dybala   24   Argentina       89         94  Juventus   \n",
       "24  138956       G. Chiellini   33       Italy       89         89  Juventus   \n",
       "\n",
       "         Value      Wage Preferred Foot  ...  Composure  Marking  \\\n",
       "1   77000000.0  405000.0          Right  ...       95.0     28.0   \n",
       "15  89000000.0  205000.0           Left  ...       84.0     23.0   \n",
       "24  27000000.0  215000.0           Left  ...       84.0     93.0   \n",
       "\n",
       "    StandingTackle SlidingTackle GKDiving GKHandling  GKKicking  \\\n",
       "1             31.0          23.0      7.0       11.0       15.0   \n",
       "15            20.0          20.0      5.0        4.0        4.0   \n",
       "24            93.0          90.0      3.0        3.0        2.0   \n",
       "\n",
       "    GKPositioning GKReflexes Release Clause  \n",
       "1            14.0       11.0    127100000.0  \n",
       "15            5.0        8.0    153500000.0  \n",
       "24            4.0        3.0     44600000.0  \n",
       "\n",
       "[3 rows x 57 columns]"
      ]
     },
     "execution_count": 24,
     "metadata": {},
     "output_type": "execute_result"
    }
   ],
   "source": [
    "fifa_df[(fifa_df['Club']=='Juventus') & (fifa_df['Wage']>200000)]"
   ]
  },
  {
   "cell_type": "markdown",
   "id": "932d34b7-c58c-4aee-9e14-2e698875bd37",
   "metadata": {},
   "source": [
    "Generate a data frame containing top 5 players by Overall rating for\n",
    "each unique position"
   ]
  },
  {
   "cell_type": "code",
   "execution_count": 26,
   "id": "a6143987-40c3-45e3-a26f-53839fd0c15c",
   "metadata": {},
   "outputs": [
    {
     "name": "stdout",
     "output_type": "stream",
     "text": [
      "         ID               Name  Age Nationality  Overall  Potential  \\\n",
      "0    194765       A. Griezmann   27      France       89         90   \n",
      "1    190460         C. Eriksen   26     Denmark       88         91   \n",
      "2    201942    Roberto Firmino   26      Brazil       86         87   \n",
      "3    189596          T. Müller   28     Germany       86         86   \n",
      "4    176635            M. Özil   29     Germany       86         86   \n",
      "..      ...                ...  ...         ...      ...        ...   \n",
      "130   20801  Cristiano Ronaldo   33    Portugal       94         94   \n",
      "131  188545     R. Lewandowski   29      Poland       90         90   \n",
      "132  202126            H. Kane   24     England       89         91   \n",
      "133  153079          S. Agüero   30   Argentina       89         89   \n",
      "134  173731            G. Bale   28       Wales       88         88   \n",
      "\n",
      "                  Club       Value      Wage Preferred Foot  ...  Composure  \\\n",
      "0      Atlético Madrid  78000000.0  145000.0           Left  ...       87.0   \n",
      "1    Tottenham Hotspur  73500000.0  205000.0          Right  ...       88.0   \n",
      "2            Liverpool  53000000.0  195000.0          Right  ...       87.0   \n",
      "3    FC Bayern München  45000000.0  135000.0          Right  ...       83.0   \n",
      "4              Arsenal  43500000.0  190000.0           Left  ...       82.0   \n",
      "..                 ...         ...       ...            ...  ...        ...   \n",
      "130           Juventus  77000000.0  405000.0          Right  ...       95.0   \n",
      "131  FC Bayern München  77000000.0  205000.0          Right  ...       86.0   \n",
      "132  Tottenham Hotspur  83500000.0  205000.0          Right  ...       89.0   \n",
      "133    Manchester City  64500000.0  300000.0          Right  ...       90.0   \n",
      "134        Real Madrid  60000000.0  355000.0           Left  ...       86.0   \n",
      "\n",
      "     Marking  StandingTackle SlidingTackle GKDiving GKHandling  GKKicking  \\\n",
      "0       59.0            47.0          48.0     14.0        8.0       14.0   \n",
      "1       59.0            57.0          22.0      9.0       14.0        7.0   \n",
      "2       60.0            64.0          42.0      8.0       11.0        9.0   \n",
      "3       44.0            41.0          44.0      6.0        7.0       11.0   \n",
      "4       24.0            16.0          19.0      6.0       14.0       10.0   \n",
      "..       ...             ...           ...      ...        ...        ...   \n",
      "130     28.0            31.0          23.0      7.0       11.0       15.0   \n",
      "131     34.0            42.0          19.0     15.0        6.0       12.0   \n",
      "132     56.0            36.0          38.0      8.0       10.0       11.0   \n",
      "133     30.0            20.0          12.0     13.0       15.0        6.0   \n",
      "134     54.0            55.0          52.0     15.0       15.0       11.0   \n",
      "\n",
      "     GKPositioning GKReflexes Release Clause  \n",
      "0             13.0       14.0    165800000.0  \n",
      "1              7.0        6.0    141500000.0  \n",
      "2              6.0       10.0    104700000.0  \n",
      "3             14.0       14.0     74300000.0  \n",
      "4              6.0       14.0     82700000.0  \n",
      "..             ...        ...            ...  \n",
      "130           14.0       11.0    127100000.0  \n",
      "131            8.0       10.0    127100000.0  \n",
      "132           14.0       11.0    160700000.0  \n",
      "133           11.0       14.0    119300000.0  \n",
      "134            5.0        6.0    123000000.0  \n",
      "\n",
      "[135 rows x 57 columns]\n"
     ]
    }
   ],
   "source": [
    "top_5_by_position = fifa_df.groupby('Position').apply(lambda x: x.nlargest(5, 'Overall')).reset_index(drop=True)\n",
    "print(top_5_by_position)"
   ]
  },
  {
   "cell_type": "markdown",
   "id": "d4275a8d-7772-4562-95b3-0b89fece5772",
   "metadata": {},
   "source": [
    "Average wage by position"
   ]
  },
  {
   "cell_type": "code",
   "execution_count": 27,
   "id": "8c94274c-ad10-4971-ad3f-70392a0a3917",
   "metadata": {},
   "outputs": [
    {
     "name": "stdout",
     "output_type": "stream",
     "text": [
      "   Position      Wage\n",
      "0       CAM  174000.0\n",
      "1        CB  139600.0\n",
      "2       CDM  217000.0\n",
      "3        CF   47400.0\n",
      "4        CM  130600.0\n",
      "5        GK  192800.0\n",
      "6       LAM   81600.0\n",
      "7        LB  177200.0\n",
      "8       LCB  162000.0\n",
      "9       LCM  184400.0\n",
      "10      LDM  126600.0\n",
      "11       LF  121200.0\n",
      "12       LM  164600.0\n",
      "13       LS  130200.0\n",
      "14       LW  261000.0\n",
      "15      LWB   34200.0\n",
      "16      RAM   45400.0\n",
      "17       RB  155400.0\n",
      "18      RCB  231000.0\n",
      "19      RCM  240800.0\n",
      "20      RDM  105000.0\n",
      "21       RF  148000.0\n",
      "22       RM  131400.0\n",
      "23       RS  132200.0\n",
      "24       RW  202000.0\n",
      "25      RWB   44200.0\n",
      "26       ST  294000.0\n"
     ]
    }
   ],
   "source": [
    "avg_wage_by_position = top_5_by_position.groupby('Position')['Wage'].mean().reset_index()\n",
    "print(avg_wage_by_position)"
   ]
  },
  {
   "cell_type": "code",
   "execution_count": null,
   "id": "a2cc56e6-88e1-45c7-9419-4527134dc029",
   "metadata": {},
   "outputs": [],
   "source": []
  }
 ],
 "metadata": {
  "kernelspec": {
   "display_name": "Python 3 (ipykernel)",
   "language": "python",
   "name": "python3"
  },
  "language_info": {
   "codemirror_mode": {
    "name": "ipython",
    "version": 3
   },
   "file_extension": ".py",
   "mimetype": "text/x-python",
   "name": "python",
   "nbconvert_exporter": "python",
   "pygments_lexer": "ipython3",
   "version": "3.12.4"
  }
 },
 "nbformat": 4,
 "nbformat_minor": 5
}
